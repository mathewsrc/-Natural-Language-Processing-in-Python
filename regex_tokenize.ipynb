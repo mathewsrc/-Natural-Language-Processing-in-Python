{
  "nbformat": 4,
  "nbformat_minor": 0,
  "metadata": {
    "colab": {
      "provenance": [],
      "authorship_tag": "ABX9TyN5SK0FwE4o13+xORmOhiis",
      "include_colab_link": true
    },
    "kernelspec": {
      "name": "python3",
      "display_name": "Python 3"
    },
    "language_info": {
      "name": "python"
    }
  },
  "cells": [
    {
      "cell_type": "markdown",
      "metadata": {
        "id": "view-in-github",
        "colab_type": "text"
      },
      "source": [
        "<a href=\"https://colab.research.google.com/github/mathewsrc/Natural-Language-Processing-in-Python/blob/master/regex_tokenize.ipynb\" target=\"_parent\"><img src=\"https://colab.research.google.com/assets/colab-badge.svg\" alt=\"Open In Colab\"/></a>"
      ]
    },
    {
      "cell_type": "markdown",
      "source": [
        "## Regex"
      ],
      "metadata": {
        "id": "jvp0Bf1GEAAR"
      }
    },
    {
      "cell_type": "code",
      "execution_count": 1,
      "metadata": {
        "id": "IEzLOWbuDLD6"
      },
      "outputs": [],
      "source": [
        "import re"
      ]
    },
    {
      "cell_type": "code",
      "source": [
        "my_string = \"Let's write RegEx!  Won't that be fun?  I sure think so.  Can you find 4 sentences?  Or perhaps, all 19 words?\""
      ],
      "metadata": {
        "id": "XHPe0XN0DW0K"
      },
      "execution_count": 2,
      "outputs": []
    },
    {
      "cell_type": "code",
      "source": [
        "# Write a pattern to match sentence endings: sentence_endings\n",
        "sentence_endings = r\"[.?!]\"\n",
        "\n",
        "# Split my_string on sentence endings and print the result\n",
        "print(re.split(sentence_endings, my_string))\n",
        "\n",
        "# Find all capitalized words in my_string and print the result\n",
        "capitalized_words = r\"[A-Z]\\w+\"\n",
        "print(re.findall(capitalized_words, my_string))\n",
        "\n",
        "# Split my_string on spaces and print the result\n",
        "spaces = r\"\\s+\"\n",
        "print(re.split(spaces, my_string))\n",
        "\n",
        "# Find all digits in my_string and print the result\n",
        "digits = r\"\\d\"\n",
        "print(re.findall(digits, my_string))"
      ],
      "metadata": {
        "colab": {
          "base_uri": "https://localhost:8080/"
        },
        "id": "vwV_8bWFDVyC",
        "outputId": "f4dd0859-d0b7-4842-d4e9-6d94f7867b89"
      },
      "execution_count": 3,
      "outputs": [
        {
          "output_type": "stream",
          "name": "stdout",
          "text": [
            "[\"Let's write RegEx\", \"  Won't that be fun\", '  I sure think so', '  Can you find 4 sentences', '  Or perhaps, all 19 words', '']\n",
            "['Let', 'RegEx', 'Won', 'Can', 'Or']\n",
            "[\"Let's\", 'write', 'RegEx!', \"Won't\", 'that', 'be', 'fun?', 'I', 'sure', 'think', 'so.', 'Can', 'you', 'find', '4', 'sentences?', 'Or', 'perhaps,', 'all', '19', 'words?']\n",
            "['4', '1', '9']\n"
          ]
        }
      ]
    },
    {
      "cell_type": "markdown",
      "source": [
        "re.match attempts to match the pattern at the beginning of the string. If the pattern matches, it returns a match object. If the pattern does not match, it returns None.\n",
        "\n",
        "re.search, on the other hand, searches the entire string for the pattern. If the pattern is found, it returns a match object. If the pattern is not found, it returns None. "
      ],
      "metadata": {
        "id": "Ie4g3AhvIR6I"
      }
    },
    {
      "cell_type": "code",
      "source": [
        "scene_one = \"SCENE 1: [wind] [clop clop clop] \\nKING ARTHUR: Whoa there!  [clop clop clop] \\nSOLDIER #1: Halt!  Who goes there?\\nARTHUR: It is I, Arthur, son of Uther Pendragon, from the castle of Camelot.  King of the Britons, defeator of the Saxons, sovereign of all England!\\nSOLDIER #1: Pull the other one!\\nARTHUR: I am, ...  and this is my trusty servant Patsy.  We have ridden the length and breadth of the land in search of knights who will join me in my court at Camelot.  I must speak with your lord and master.\\nSOLDIER #1: What?  Ridden on a horse?\\nARTHUR: Yes!\\nSOLDIER #1: You're using coconuts!\\nARTHUR: What?\\nSOLDIER #1: You've got two empty halves of coconut and you're bangin' 'em together.\\nARTHUR: So?  We have ridden since the snows of winter covered this land, through the kingdom of Mercea, through--\\nSOLDIER #1: Where'd you get the coconuts?\\nARTHUR: We found them.\\nSOLDIER #1: Found them?  In Mercea?  The coconut's tropical!\\nARTHUR: What do you mean?\\nSOLDIER #1: Well, this is a temperate zone.\\nARTHUR: The swallow may fly south with the sun or the house martin or the plover may seek warmer climes in winter, yet these are not strangers to our land?\\nSOLDIER #1: Are you suggesting coconuts migrate?\\nARTHUR: Not at all.  They could be carried.\\nSOLDIER #1: What?  A swallow carrying a coconut?\\nARTHUR: It could grip it by the husk!\\nSOLDIER #1: It's not a question of where he grips it!  It's a simple question of weight ratios!  A five ounce bird could not carry a one pound coconut.\\nARTHUR: Well, it doesn't matter.  Will you go and tell your master that Arthur from the Court of Camelot is here.\\nSOLDIER #1: Listen.  In order to maintain air-speed velocity, a swallow needs to beat its wings forty-three times every second, right?\\nARTHUR: Please!\\nSOLDIER #1: Am I right?\\nARTHUR: I'm not interested!\\nSOLDIER #2: It could be carried by an African swallow!\\nSOLDIER #1: Oh, yeah, an African swallow maybe, but not a European swallow.  That's my point.\\nSOLDIER #2: Oh, yeah, I agree with that.\\nARTHUR: Will you ask your master if he wants to join my court at Camelot?!\\nSOLDIER #1: But then of course a-- African swallows are non-migratory.\\nSOLDIER #2: Oh, yeah...\\nSOLDIER #1: So they couldn't bring a coconut back anyway...  [clop clop clop] \\nSOLDIER #2: Wait a minute!  Supposing two swallows carried it together?\\nSOLDIER #1: No, they'd have to have it on a line.\\nSOLDIER #2: Well, simple!  They'd just use a strand of creeper!\\nSOLDIER #1: What, held under the dorsal guiding feathers?\\nSOLDIER #2: Well, why not?\\n\""
      ],
      "metadata": {
        "id": "pAszAY-MJ1bR"
      },
      "execution_count": 4,
      "outputs": []
    },
    {
      "cell_type": "code",
      "source": [
        "m = re.search(\"coconuts\", scene_one)\n",
        "print(m.start(), m.end())"
      ],
      "metadata": {
        "colab": {
          "base_uri": "https://localhost:8080/"
        },
        "id": "Z3j3YefVIRFu",
        "outputId": "8a9e6778-b96f-490e-8ee0-fa71ef92d86c"
      },
      "execution_count": 5,
      "outputs": [
        {
          "output_type": "stream",
          "name": "stdout",
          "text": [
            "580 588\n"
          ]
        }
      ]
    },
    {
      "cell_type": "code",
      "source": [
        "# Write a regular expression to search for anything in square brackets: pattern1\n",
        "pattern1 = r\"\\[.*\\]\"\n",
        "\n",
        "# Use re.search to find the first text in square brackets\n",
        "print(re.search(pattern1 , scene_one))"
      ],
      "metadata": {
        "id": "ZFvaGD8aK7sm",
        "colab": {
          "base_uri": "https://localhost:8080/"
        },
        "outputId": "c46418f1-bfd2-468f-8981-1c0bc3166535"
      },
      "execution_count": 6,
      "outputs": [
        {
          "output_type": "stream",
          "name": "stdout",
          "text": [
            "<re.Match object; span=(9, 32), match='[wind] [clop clop clop]'>\n"
          ]
        }
      ]
    },
    {
      "cell_type": "code",
      "source": [
        "# Find the script notation at the beginning of the sentences\n",
        "pattern2 = r\"[\\w\\d\\s]+:\"\n",
        "print(re.match(pattern2, scene_one))"
      ],
      "metadata": {
        "colab": {
          "base_uri": "https://localhost:8080/"
        },
        "id": "8NGBURvfNIXT",
        "outputId": "0c521630-a603-48f5-e3dd-4da5394b04a6"
      },
      "execution_count": 7,
      "outputs": [
        {
          "output_type": "stream",
          "name": "stdout",
          "text": [
            "<re.Match object; span=(0, 8), match='SCENE 1:'>\n"
          ]
        }
      ]
    },
    {
      "cell_type": "markdown",
      "source": [
        "## Tokenization\n",
        "\n",
        "Transform strings into tokens\n",
        "\n",
        "* Easier to map part of speech   \n",
        "* Matching common words\n",
        "* Remove unwated words\n",
        "\n",
        "\n"
      ],
      "metadata": {
        "id": "h_4e68PsD7Kf"
      }
    },
    {
      "cell_type": "code",
      "source": [
        "import nltk\n",
        "nltk.download('punkt')\n",
        "from nltk.tokenize import word_tokenize, sent_tokenize"
      ],
      "metadata": {
        "colab": {
          "base_uri": "https://localhost:8080/"
        },
        "id": "ofFjGaLtEDt9",
        "outputId": "5693a825-a030-4aba-b066-fa4df166043f"
      },
      "execution_count": 8,
      "outputs": [
        {
          "output_type": "stream",
          "name": "stderr",
          "text": [
            "[nltk_data] Downloading package punkt to /root/nltk_data...\n",
            "[nltk_data]   Unzipping tokenizers/punkt.zip.\n"
          ]
        }
      ]
    },
    {
      "cell_type": "code",
      "source": [
        "word_tokenize(my_string)"
      ],
      "metadata": {
        "colab": {
          "base_uri": "https://localhost:8080/"
        },
        "id": "mu0f0HRqFevq",
        "outputId": "2348c17d-e61f-401e-9568-fa15270740e9"
      },
      "execution_count": 9,
      "outputs": [
        {
          "output_type": "execute_result",
          "data": {
            "text/plain": [
              "['Let',\n",
              " \"'s\",\n",
              " 'write',\n",
              " 'RegEx',\n",
              " '!',\n",
              " 'Wo',\n",
              " \"n't\",\n",
              " 'that',\n",
              " 'be',\n",
              " 'fun',\n",
              " '?',\n",
              " 'I',\n",
              " 'sure',\n",
              " 'think',\n",
              " 'so',\n",
              " '.',\n",
              " 'Can',\n",
              " 'you',\n",
              " 'find',\n",
              " '4',\n",
              " 'sentences',\n",
              " '?',\n",
              " 'Or',\n",
              " 'perhaps',\n",
              " ',',\n",
              " 'all',\n",
              " '19',\n",
              " 'words',\n",
              " '?']"
            ]
          },
          "metadata": {},
          "execution_count": 9
        }
      ]
    },
    {
      "cell_type": "code",
      "source": [
        "sent_tokenize(my_string)"
      ],
      "metadata": {
        "colab": {
          "base_uri": "https://localhost:8080/"
        },
        "id": "hwYMYBhqHt5Q",
        "outputId": "6663c311-63a9-491f-89a3-c2e60c246b80"
      },
      "execution_count": 10,
      "outputs": [
        {
          "output_type": "execute_result",
          "data": {
            "text/plain": [
              "[\"Let's write RegEx!\",\n",
              " \"Won't that be fun?\",\n",
              " 'I sure think so.',\n",
              " 'Can you find 4 sentences?',\n",
              " 'Or perhaps, all 19 words?']"
            ]
          },
          "metadata": {},
          "execution_count": 10
        }
      ]
    },
    {
      "cell_type": "markdown",
      "source": [
        "## Advanced tokenization with Regex"
      ],
      "metadata": {
        "id": "cHfw0R8w9T3J"
      }
    },
    {
      "cell_type": "markdown",
      "source": [
        "OR is represented by |\n",
        "\n",
        "A group is defined by ()\n",
        "\n",
        "Explicit character ranges are defined by []"
      ],
      "metadata": {
        "id": "9qVc7E1k9ZAD"
      }
    },
    {
      "cell_type": "code",
      "source": [
        "from nltk.tokenize import regexp_tokenize"
      ],
      "metadata": {
        "id": "LXHVpdNBDUU2"
      },
      "execution_count": 17,
      "outputs": []
    },
    {
      "cell_type": "code",
      "source": [
        "# matching digits and words\n",
        "\n",
        "match_digits_words = ('(\\d+|\\w+)')\n",
        "re.findall(match_digits_words, \"He has 11 cats.\")"
      ],
      "metadata": {
        "colab": {
          "base_uri": "https://localhost:8080/"
        },
        "id": "l1rmTNOf9W9U",
        "outputId": "9771a96f-ba04-4190-d636-6d05c1583b2c"
      },
      "execution_count": 16,
      "outputs": [
        {
          "output_type": "execute_result",
          "data": {
            "text/plain": [
              "['He', 'has', '11', 'cats']"
            ]
          },
          "metadata": {},
          "execution_count": 16
        }
      ]
    },
    {
      "cell_type": "code",
      "source": [
        "my_string = \"SOLDIER #1: Found them? In Mercea? The coconut's tropical!\"\n",
        "pattern = re\n",
        "regexp_tokenize(my_string, r\"(\\w+|#\\d|\\?|!)\")"
      ],
      "metadata": {
        "colab": {
          "base_uri": "https://localhost:8080/"
        },
        "id": "tqzdlFou-wt1",
        "outputId": "52960c74-9d88-4276-e094-9501065b3adf"
      },
      "execution_count": 18,
      "outputs": [
        {
          "output_type": "execute_result",
          "data": {
            "text/plain": [
              "['SOLDIER',\n",
              " '#1',\n",
              " 'Found',\n",
              " 'them',\n",
              " '?',\n",
              " 'In',\n",
              " 'Mercea',\n",
              " '?',\n",
              " 'The',\n",
              " 'coconut',\n",
              " 's',\n",
              " 'tropical',\n",
              " '!']"
            ]
          },
          "metadata": {},
          "execution_count": 18
        }
      ]
    },
    {
      "cell_type": "code",
      "source": [
        "# Import the necessary modules\n",
        "from nltk.tokenize import regexp_tokenize\n",
        "from nltk.tokenize import TweetTokenizer\n",
        "tweets = ['This is the best #nlp exercise ive found online! #python', '#NLP is super fun! <3 #learning', 'Thanks @datacamp :) #nlp #python']\n"
      ],
      "metadata": {
        "id": "PRHVnpm2FR_j"
      },
      "execution_count": 21,
      "outputs": []
    },
    {
      "cell_type": "code",
      "source": [
        "# Define a regex pattern to find hashtags: pattern1\n",
        "pattern1 = r\"#\\w+\"\n",
        "# Use the pattern on the first tweet in the tweets list\n",
        "hashtags = regexp_tokenize(tweets[0], pattern1)\n",
        "print(hashtags)"
      ],
      "metadata": {
        "colab": {
          "base_uri": "https://localhost:8080/"
        },
        "id": "44LV-OY4En5m",
        "outputId": "f9fa5c95-ea2e-425f-af05-f56278cca720"
      },
      "execution_count": 22,
      "outputs": [
        {
          "output_type": "stream",
          "name": "stdout",
          "text": [
            "['#nlp', '#python']\n"
          ]
        }
      ]
    },
    {
      "cell_type": "code",
      "source": [
        "# Write a pattern that matches both mentions (@) and hashtags\n",
        "pattern2 = r\"([@#]\\w+)\"\n",
        "# Use the pattern on the last tweet in the tweets list\n",
        "mentions_hashtags = regexp_tokenize(tweets[-1], pattern2)\n",
        "print(mentions_hashtags)"
      ],
      "metadata": {
        "colab": {
          "base_uri": "https://localhost:8080/"
        },
        "id": "cLVRbLmwFp6L",
        "outputId": "07f62045-8dbc-429f-fc8f-2aae63538409"
      },
      "execution_count": 23,
      "outputs": [
        {
          "output_type": "stream",
          "name": "stdout",
          "text": [
            "['@datacamp', '#nlp', '#python']\n"
          ]
        }
      ]
    },
    {
      "cell_type": "code",
      "source": [
        "# Use the TweetTokenizer to tokenize all tweets into one list\n",
        "tknzr = TweetTokenizer()\n",
        "all_tokens = [tknzr.tokenize(t) for t in tweets]\n",
        "print(all_tokens)"
      ],
      "metadata": {
        "colab": {
          "base_uri": "https://localhost:8080/"
        },
        "id": "_mVigfpAGJid",
        "outputId": "0acad9cc-8f67-482b-9a6c-1c13e60a4b28"
      },
      "execution_count": 25,
      "outputs": [
        {
          "output_type": "stream",
          "name": "stdout",
          "text": [
            "[['This', 'is', 'the', 'best', '#nlp', 'exercise', 'ive', 'found', 'online', '!', '#python'], ['#NLP', 'is', 'super', 'fun', '!', '<3', '#learning'], ['Thanks', '@datacamp', ':)', '#nlp', '#python']]\n"
          ]
        }
      ]
    },
    {
      "cell_type": "code",
      "source": [
        "german_text = \"Wann gehen wir Pizza essen? 🍕 Und fährst du mit Über? 🚕\""
      ],
      "metadata": {
        "id": "Il9NF0I7ITFc"
      },
      "execution_count": 27,
      "outputs": []
    },
    {
      "cell_type": "code",
      "source": [
        "# Tokenize and print all words in german_text\n",
        "all_words = word_tokenize(german_text)\n",
        "print(all_words)\n",
        "\n",
        "# Tokenize and print only capital words\n",
        "capital_words = r\"[A-ZÜ]\\w+\"\n",
        "print(regexp_tokenize(german_text, capital_words))\n",
        "\n",
        "# Tokenize and print only emoji\n",
        "emoji = \"['\\U0001F300-\\U0001F5FF'|'\\U0001F600-\\U0001F64F'|'\\U0001F680-\\U0001F6FF'|'\\u2600-\\u26FF\\u2700-\\u27BF']\"\n",
        "print(regexp_tokenize(german_text, emoji))"
      ],
      "metadata": {
        "colab": {
          "base_uri": "https://localhost:8080/"
        },
        "id": "tSLWS4lXISWV",
        "outputId": "696dd068-5a07-49cb-98b5-bcbc8720ba2d"
      },
      "execution_count": 28,
      "outputs": [
        {
          "output_type": "stream",
          "name": "stdout",
          "text": [
            "['Wann', 'gehen', 'wir', 'Pizza', 'essen', '?', '🍕', 'Und', 'fährst', 'du', 'mit', 'Über', '?', '🚕']\n",
            "['Wann', 'Pizza', 'Und', 'Über']\n",
            "['🍕', '🚕']\n"
          ]
        }
      ]
    },
    {
      "cell_type": "code",
      "source": [
        "holy_grail = \"\"\"SCENE 1: [wind] [clop clop clop] \n",
        "KING ARTHUR: Whoa there!  [clop clop clop] \n",
        "SOLDIER #1: Halt!  Who goes there?\n",
        "ARTHUR: It is I, Arthur, son of Uther Pendragon, from the castle of Camelot.  King of the Britons, defeator of the Saxons, sovereign of all England!\n",
        "SOLDIER #1: Pull the other one!\n",
        "ARTHUR: I am, ...  and this is my trusty servant Patsy.  We have ridden the length and breadth of the land in search of knights who will join me in my court at Camelot.  I must speak with your lord and master.\n",
        "SOLDIER #1: What?  Ridden on a horse?\n",
        "ARTHUR: Yes!\n",
        "SOLDIER #1: You're using coconuts!\n",
        "ARTHUR: What?\n",
        "SOLDIER #1: You've got two empty halves of coconut and you're bangin' 'em together.\n",
        "ARTHUR: So?  We have ridden since the snows of winter covered this land, through the kingdom of Mercea, through--\n",
        "SOLDIER #1: Where'd you get the coconuts?\n",
        "ARTHUR: We found them.\n",
        "SOLDIER #1: Found them?  In Mercea?  The coconut's tropical!\n",
        "ARTHUR: What do you mean?\n",
        "SOLDIER #1: Well, this is a temperate zone.\n",
        "ARTHUR: The swallow may fly south with the sun or the house martin or the plover may seek warmer climes in winter, yet these are not strangers to our land?\n",
        "SOLDIER #1: Are you suggesting coconuts migrate?\n",
        "ARTHUR: Not at all.  They could be carried.\n",
        "SOLDIER #1: What?  A swallow carrying a coconut?\n",
        "ARTHUR: It could grip it by the husk!\n",
        "SOLDIER #1: It's not a question of where he grips it!  It's a simple question of weight ratios!  A five ounce bird could not carry a one pound coconut.\n",
        "ARTHUR: Well, it doesn't matter.  Will you go and tell your master that Arthur from the Court of Camelot is here.\n",
        "SOLDIER #1: Listen.  In order to maintain air-speed velocity, a swallow needs to beat its wings forty-three times every second, right?\n",
        "ARTHUR: Please!\n",
        "SOLDIER #1: Am I right?\n",
        "ARTHUR: I'm not interested!\n",
        "SOLDIER #2: It could be carried by an African swallow!\n",
        "SOLDIER #1: Oh, yeah, an African swallow maybe, but not a European swallow.  That's my point.\n",
        "SOLDIER #2: Oh, yeah, I agree with that.\n",
        "ARTHUR: Will you ask your master if he wants to join my court at Camelot?!\n",
        "SOLDIER #1: But then of course a-- African swallows are non-migratory.\n",
        "SOLDIER #2: Oh, yeah...\n",
        "SOLDIER #1: So they couldn't bring a coconut back anyway...  [clop clop clop] \n",
        "SOLDIER #2: Wait a minute!  Supposing two swallows carried it together?\n",
        "SOLDIER #1: No, they'd have to have it on a line.\n",
        "SOLDIER #2: Well, simple!  They'd just use a strand of creeper!\n",
        "SOLDIER #1: What, held under the dorsal guiding feathers?\n",
        "SOLDIER #2: Well, why not?\n",
        "SCENE 2: [thud] [clang] \n",
        "CART-MASTER: Bring out your dead!  [clang] Bring out your dead!  [clang] Bring out your dead!  [clang] Bring out your dead!  [clang] Bring out your dead!  [cough cough...] [clang] [... cough cough] Bring out your dead!  [clang] Bring out your dead!  [clang] Bring out your dead!  Ninepence.  [clang] Bring out your dead!  [clang] Bring out your dead!  [clang] Bring out...  [rewr!] ... your dead!  [rewr!] [clang] Bring out your dead!\n",
        "CUSTOMER: Here's one.\n",
        "CART-MASTER: Ninepence.\n",
        "DEAD PERSON: I'm not dead!\n",
        "CART-MASTER: What?\n",
        "CUSTOMER: Nothing.  Here's your ninepence.\n",
        "DEAD PERSON: I'm not dead!\n",
        "CART-MASTER: 'Ere.  He says he's not dead!\n",
        "CUSTOMER: Yes he is.\n",
        "DEAD PERSON: I'm not!\n",
        "CART-MASTER: He isn't?\n",
        "CUSTOMER: Well, he will be soon.  He's very ill.\n",
        "DEAD PERSON: I'm getting better!  \n",
        "CUSTOMER: No you're not.  You'll be stone dead in a moment.\n",
        "CART-MASTER: Oh, I can't take him like that.  It's against regulations.\n",
        "DEAD PERSON: I don't want to go on the cart!\n",
        "CUSTOMER: Oh, don't be such a baby.\n",
        "CART-MASTER: I can't take him.\n",
        "DEAD PERSON: I feel fine!\n",
        "CUSTOMER: Well, do us a favor.\n",
        "CART-MASTER: I can't.\n",
        "CUSTOMER: Well, can you hang around a couple of minutes?  He won't be long.\n",
        "CART-MASTER: No, I've got to go to the Robinson's.  They've lost nine today.\n",
        "CUSTOMER: Well, when's your next round?\n",
        "CART-MASTER: Thursday.\n",
        "DEAD PERSON: I think I'll go for a walk.\n",
        "CUSTOMER: You're not fooling anyone you know.  Look, isn't there something you can do?\n",
        "DEAD PERSON: [singing] I feel happy...  I feel happy.  [whop] \n",
        "CUSTOMER: Ah, thanks very much.\n",
        "CART-MASTER: Not at all.  See you on Thursday.\n",
        "CUSTOMER: Right.  All right.  [howl] [clop clop clop] Who's that then?\n",
        "CART-MASTER: I dunno.  Must be a king.\n",
        "CUSTOMER: Why?\n",
        "CART-MASTER: He hasn't got shit all over him.\n",
        "SCENE 3: [thud] [King Arthur music] [thud thud thud] [King Arthur music stops] \n",
        "ARTHUR: Old woman!\n",
        "DENNIS: Man!\n",
        "ARTHUR: Man.  Sorry.  What knight live in that castle over there?\n",
        "DENNIS: I'm thirty-seven.\n",
        "ARTHUR: I-- what?\n",
        "DENNIS: I'm thirty-seven.  I'm not old.\n",
        "ARTHUR: Well, I can't just call you 'Man'.\n",
        "DENNIS: Well, you could say 'Dennis'.\n",
        "ARTHUR: Well, I didn't know you were called 'Dennis'. \"\"\""
      ],
      "metadata": {
        "id": "IRUGoqZELUPj"
      },
      "execution_count": 31,
      "outputs": []
    },
    {
      "cell_type": "code",
      "source": [
        "from matplotlib import pyplot as plt\n",
        "\n",
        "# Split the script into lines: lines\n",
        "lines = holy_grail.split('\\n')\n",
        "\n",
        "# Replace all script lines for speaker\n",
        "pattern = \"[A-Z]{2,}(\\s)?(#\\d)?([A-Z]{2,})?:\"\n",
        "lines = [re.sub(pattern, '', l) for l in lines]\n",
        "\n",
        "# Tokenize each line: tokenized_lines\n",
        "tokenized_lines = [regexp_tokenize(s, r\"\\w+\") for s in lines]\n",
        "\n",
        "# Make a frequency list of lengths: line_num_words\n",
        "line_num_words = [len(t_line) for t_line in tokenized_lines]\n",
        "\n",
        "# Plot a histogram of the line lengths\n",
        "plt.hist(line_num_words)\n",
        "plt.show()"
      ],
      "metadata": {
        "colab": {
          "base_uri": "https://localhost:8080/",
          "height": 265
        },
        "id": "hYrruNEMLaRi",
        "outputId": "494fb0d4-fd28-4be8-f79e-d1e77bfbfe6d"
      },
      "execution_count": 33,
      "outputs": [
        {
          "output_type": "display_data",
          "data": {
            "text/plain": [
              "<Figure size 432x288 with 1 Axes>"
            ],
            "image/png": "[encoded data removed]"
          },
          "metadata": {
            "needs_background": "light"
          }
        }
      ]
    }
  ]
}