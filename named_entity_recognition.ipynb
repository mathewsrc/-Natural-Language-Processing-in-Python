{
  "nbformat": 4,
  "nbformat_minor": 0,
  "metadata": {
    "colab": {
      "provenance": [],
      "authorship_tag": "ABX9TyMzv37z3ryDNaTTxHJoNr9y",
      "include_colab_link": true
    },
    "kernelspec": {
      "name": "python3",
      "display_name": "Python 3"
    },
    "language_info": {
      "name": "python"
    }
  },
  "cells": [
    {
      "cell_type": "markdown",
      "metadata": {
        "id": "view-in-github",
        "colab_type": "text"
      },
      "source": [
        "<a href=\"https://colab.research.google.com/github/mathewsrc/Natural-Language-Processing-in-Python/blob/master/named_entity_recognition.ipynb\" target=\"_parent\"><img src=\"https://colab.research.google.com/assets/colab-badge.svg\" alt=\"Open In Colab\"/></a>"
      ]
    },
    {
      "cell_type": "markdown",
      "source": [
        "Named Entity Recognition (NER) is a task in Natural Language Processing (NLP) that involves identifying and classifying named entities in text. Named entities are specific objects, people, locations, organizations, or other types of entities that are referred to by name in text."
      ],
      "metadata": {
        "id": "vA6SvZ2TjkUn"
      }
    },
    {
      "cell_type": "markdown",
      "source": [
        "## NLTK"
      ],
      "metadata": {
        "id": "zbvBbIIvIHrn"
      }
    },
    {
      "cell_type": "code",
      "source": [
        "import nltk\n",
        "from nltk.corpus import brown\n",
        "from nltk import sent_tokenize, word_tokenize\n",
        "nltk.download('punkt') # for tokenize\n",
        "nltk.download('averaged_perceptron_tagger') # for pos tag\n",
        "nltk.download('maxent_ne_chunker') # for named entity chunk\n",
        "nltk.download('words') # for chunk extraction\n",
        "nltk.download('brown')\n",
        "from collections import defaultdict\n",
        "from matplotlib import pyplot as plt\n",
        "import re"
      ],
      "metadata": {
        "colab": {
          "base_uri": "https://localhost:8080/"
        },
        "id": "zRI0vIb_jlVW",
        "outputId": "1606b519-e2e4-4068-9035-6a5b06713aff"
      },
      "execution_count": 56,
      "outputs": [
        {
          "output_type": "stream",
          "name": "stderr",
          "text": [
            "[nltk_data] Downloading package punkt to /root/nltk_data...\n",
            "[nltk_data]   Package punkt is already up-to-date!\n",
            "[nltk_data] Downloading package averaged_perceptron_tagger to\n",
            "[nltk_data]     /root/nltk_data...\n",
            "[nltk_data]   Package averaged_perceptron_tagger is already up-to-\n",
            "[nltk_data]       date!\n",
            "[nltk_data] Downloading package maxent_ne_chunker to\n",
            "[nltk_data]     /root/nltk_data...\n",
            "[nltk_data]   Package maxent_ne_chunker is already up-to-date!\n",
            "[nltk_data] Downloading package words to /root/nltk_data...\n",
            "[nltk_data]   Package words is already up-to-date!\n",
            "[nltk_data] Downloading package brown to /root/nltk_data...\n",
            "[nltk_data]   Package brown is already up-to-date!\n"
          ]
        }
      ]
    },
    {
      "cell_type": "code",
      "source": [
        "brown.categories()"
      ],
      "metadata": {
        "colab": {
          "base_uri": "https://localhost:8080/"
        },
        "id": "ZtvYdudV1oy_",
        "outputId": "625ca489-ec20-49bf-9816-23723e710f0e"
      },
      "execution_count": 57,
      "outputs": [
        {
          "output_type": "execute_result",
          "data": {
            "text/plain": [
              "['adventure',\n",
              " 'belles_lettres',\n",
              " 'editorial',\n",
              " 'fiction',\n",
              " 'government',\n",
              " 'hobbies',\n",
              " 'humor',\n",
              " 'learned',\n",
              " 'lore',\n",
              " 'mystery',\n",
              " 'news',\n",
              " 'religion',\n",
              " 'reviews',\n",
              " 'romance',\n",
              " 'science_fiction']"
            ]
          },
          "metadata": {},
          "execution_count": 57
        }
      ]
    },
    {
      "cell_type": "code",
      "source": [
        "# Get a list of the files in the \"news\" category\n",
        "news_fileids = brown.fileids(categories='news')\n",
        "\n",
        "# Get the words in those files\n",
        "article = brown.words(fileids=news_fileids)\n",
        "article = ' '.join(article)"
      ],
      "metadata": {
        "id": "DyNGHSNOjqWu"
      },
      "execution_count": 58,
      "outputs": []
    },
    {
      "cell_type": "code",
      "source": [
        "article = article.replace(\" '' \", '').replace('``','' ).replace(' . ', '')\n",
        "article[:100]"
      ],
      "metadata": {
        "colab": {
          "base_uri": "https://localhost:8080/",
          "height": 36
        },
        "id": "hj1qF6Cg1_uw",
        "outputId": "2a3b180b-0ae5-4d02-9cbb-d1130e0acc48"
      },
      "execution_count": 59,
      "outputs": [
        {
          "output_type": "execute_result",
          "data": {
            "text/plain": [
              "\"The Fulton County Grand Jury said Friday an investigation of Atlanta's recent primary election produ\""
            ],
            "application/vnd.google.colaboratory.intrinsic+json": {
              "type": "string"
            }
          },
          "metadata": {},
          "execution_count": 59
        }
      ]
    },
    {
      "cell_type": "code",
      "source": [
        "# Tokenize the article into sentences: sentences\n",
        "sentences = sent_tokenize(article) \n",
        "for sent in sentences[:3]:\n",
        "  print(sent)"
      ],
      "metadata": {
        "colab": {
          "base_uri": "https://localhost:8080/"
        },
        "id": "e9iyv6q7mDB_",
        "outputId": "d028c8c2-2656-4066-e620-ffe578ae6ffa"
      },
      "execution_count": 60,
      "outputs": [
        {
          "output_type": "stream",
          "name": "stdout",
          "text": [
            "The Fulton County Grand Jury said Friday an investigation of Atlanta's recent primary election produced  no evidencethat any irregularities took placeThe jury further said in term-end presentments that the City Executive Committee , which had over-all charge of the election ,  deserves the praise and thanks of the City of Atlantafor the manner in which the election was conductedThe September-October term jury had been charged by Fulton Superior Court Judge Durwood Pye to investigate reports of possible  irregularitiesin the hard-fought primary which was won by Mayor-nominate Ivan Allen Jr. Only a relative handful of such reports was received, the jury said ,  considering the widespread interest in the election , the number of voters and the size of this city.\n",
            "The jury said it did find that many of Georgia's registration and election laws  are outmoded or inadequate and often ambiguous.\n",
            "It recommended that Fulton legislators act  to have these laws studied and revised to the end of modernizing and improving them.\n"
          ]
        }
      ]
    },
    {
      "cell_type": "code",
      "source": [
        "# Tokenize each sentence into words: token_sentences\n",
        "token_sentences = [word_tokenize(sent) for sent in sentences]\n",
        "print(token_sentences[1])"
      ],
      "metadata": {
        "colab": {
          "base_uri": "https://localhost:8080/"
        },
        "id": "iDB2jAiFnVHm",
        "outputId": "83326f81-35c7-494b-9c16-7374a46220ca"
      },
      "execution_count": 61,
      "outputs": [
        {
          "output_type": "stream",
          "name": "stdout",
          "text": [
            "['The', 'jury', 'said', 'it', 'did', 'find', 'that', 'many', 'of', 'Georgia', \"'s\", 'registration', 'and', 'election', 'laws', 'are', 'outmoded', 'or', 'inadequate', 'and', 'often', 'ambiguous', '.']\n"
          ]
        }
      ]
    },
    {
      "cell_type": "code",
      "source": [
        "# Tag each tokenized sentence into parts of speech: pos_sentences\n",
        "pos_sentences = [nltk.pos_tag(sent) for sent in token_sentences] \n",
        "\n",
        "# Create the named entity chunks: chunked_sentences\n",
        "chunked_sentences = nltk.ne_chunk_sents(pos_sentences)\n",
        "\n",
        "# Create the defaultdict: ner_categories\n",
        "ner_categories = defaultdict(int)\n",
        "\n",
        "# Create the nested for loop\n",
        "count = 0\n",
        "for sent in chunked_sentences:\n",
        "    for chunk in sent:\n",
        "        if hasattr(chunk, \"label\"):\n",
        "            count += 1\n",
        "            if count % 1000 == 0:\n",
        "                print(chunk.label())\n",
        "            ner_categories[chunk.label()] += 1"
      ],
      "metadata": {
        "colab": {
          "base_uri": "https://localhost:8080/"
        },
        "id": "XsxEL53onkRz",
        "outputId": "8f002e6c-d515-403b-a57a-d19eb8f44e9c"
      },
      "execution_count": 62,
      "outputs": [
        {
          "output_type": "stream",
          "name": "stdout",
          "text": [
            "PERSON\n",
            "GPE\n",
            "PERSON\n",
            "GPE\n",
            "ORGANIZATION\n",
            "GPE\n",
            "GPE\n"
          ]
        }
      ]
    },
    {
      "cell_type": "code",
      "source": [
        "print(set(ner_categories))"
      ],
      "metadata": {
        "colab": {
          "base_uri": "https://localhost:8080/"
        },
        "id": "L9dYxBQK-Mqm",
        "outputId": "fe9003e4-5f78-4a4e-dc0d-4eb680d7f982"
      },
      "execution_count": 63,
      "outputs": [
        {
          "output_type": "stream",
          "name": "stdout",
          "text": [
            "{'LOCATION', 'GSP', 'FACILITY', 'GPE', 'PERSON', 'ORGANIZATION'}\n"
          ]
        }
      ]
    },
    {
      "cell_type": "code",
      "source": [
        "# Create a list from the dictionary keys for the chart labels: labels\n",
        "labels = list(ner_categories.keys())\n",
        "\n",
        "# Create a list of the values: values\n",
        "values = [ner_categories.get(v) for v in labels]\n",
        "\n",
        "# Create the pie chart\n",
        "fig, ax = plt.subplots(figsize=(12, 8))\n",
        "ax.barh(labels, values)\n",
        "ax.invert_yaxis()\n",
        "ax.set_xlabel('Count')\n",
        "ax.set_title('Named Entity Counts')\n",
        "\n",
        "# Display the chart\n",
        "plt.show()"
      ],
      "metadata": {
        "colab": {
          "base_uri": "https://localhost:8080/",
          "height": 611
        },
        "id": "_cg9_EQ2zocQ",
        "outputId": "5bd66bd4-1d79-400b-94eb-2faa7f541dba"
      },
      "execution_count": 64,
      "outputs": [
        {
          "output_type": "display_data",
          "data": {
            "text/plain": [
              "<Figure size 1200x800 with 1 Axes>"
            ],
            "image/png": "[encoded data removed]"
          },
          "metadata": {}
        }
      ]
    },
    {
      "cell_type": "markdown",
      "source": [
        "## SpaCy"
      ],
      "metadata": {
        "id": "72kwoDF_CRra"
      }
    },
    {
      "cell_type": "markdown",
      "source": [
        "Spacy is an open-source Natural Language Processing (NLP) library that is designed to be fast, efficient, and user-friendly. It provides a range of tools and features for performing various NLP tasks such as part-of-speech (POS) tagging, named entity recognition (NER), dependency parsing, and more."
      ],
      "metadata": {
        "id": "JuAsZ4uGCsRL"
      }
    },
    {
      "cell_type": "code",
      "source": [
        "# Import spacy\n",
        "import spacy\n",
        "\n",
        "# Instantiate the English model: nlp\n",
        "nlp = spacy.load('en_core_web_sm', disable=['tagger', 'parser', 'matcher'])"
      ],
      "metadata": {
        "id": "bHJTxYw0CSeB"
      },
      "execution_count": 65,
      "outputs": []
    },
    {
      "cell_type": "code",
      "source": [
        "# Create a new document: doc\n",
        "doc = nlp(article)\n",
        "\n",
        "# Print all of the found entities and their labels\n",
        "ner_categories = defaultdict(int)\n",
        "for ent in doc.ents:\n",
        "    ner_categories[ent.label_] += 1"
      ],
      "metadata": {
        "colab": {
          "base_uri": "https://localhost:8080/"
        },
        "id": "SrC_VqqEDOtW",
        "outputId": "618db08a-84e3-4133-c12a-5082caff3e05"
      },
      "execution_count": 66,
      "outputs": [
        {
          "output_type": "stream",
          "name": "stderr",
          "text": [
            "/usr/local/lib/python3.9/dist-packages/spacy/pipeline/lemmatizer.py:211: UserWarning: [W108] The rule-based lemmatizer did not find POS annotation for one or more tokens. Check that your pipeline includes components that assign token.pos, typically 'tagger'+'attribute_ruler' or 'morphologizer'.\n",
            "  warnings.warn(Warnings.W108)\n"
          ]
        }
      ]
    },
    {
      "cell_type": "code",
      "source": [
        "# Create a list from the dictionary keys for the chart labels: labels\n",
        "labels = list(ner_categories.keys())\n",
        "\n",
        "# Create a list of the values: values\n",
        "values = [ner_categories.get(v) for v in labels]\n",
        "\n",
        "# Create the pie chart\n",
        "fig, ax = plt.subplots(figsize=(8, 4))\n",
        "ax.barh(labels, values)\n",
        "ax.invert_yaxis()\n",
        "ax.set_xlabel('Count')\n",
        "ax.set_title('Named Entity Counts')\n",
        "\n",
        "# Display the chart\n",
        "plt.show()"
      ],
      "metadata": {
        "colab": {
          "base_uri": "https://localhost:8080/",
          "height": 410
        },
        "id": "Z_LIiD7zFhT-",
        "outputId": "3dffdf93-0321-4674-bded-be12639b7ec1"
      },
      "execution_count": 67,
      "outputs": [
        {
          "output_type": "display_data",
          "data": {
            "text/plain": [
              "<Figure size 800x400 with 1 Axes>"
            ],
            "image/png": "[encoded data removed]"
          },
          "metadata": {}
        }
      ]
    }
  ]
}