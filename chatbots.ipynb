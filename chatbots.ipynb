{
  "nbformat": 4,
  "nbformat_minor": 0,
  "metadata": {
    "colab": {
      "provenance": [],
      "authorship_tag": "ABX9TyPICEu+YukoJAqiP8sPa5+K",
      "include_colab_link": true
    },
    "kernelspec": {
      "name": "python3",
      "display_name": "Python 3"
    },
    "language_info": {
      "name": "python"
    }
  },
  "cells": [
    {
      "cell_type": "markdown",
      "metadata": {
        "id": "view-in-github",
        "colab_type": "text"
      },
      "source": [
        "<a href=\"https://colab.research.google.com/github/mathewsrc/Natural-Language-Processing-in-Python/blob/master/chatbots.ipynb\" target=\"_parent\"><img src=\"https://colab.research.google.com/assets/colab-badge.svg\" alt=\"Open In Colab\"/></a>"
      ]
    },
    {
      "cell_type": "markdown",
      "source": [
        "## Eliza"
      ],
      "metadata": {
        "id": "UaWoGI_QHtIG"
      }
    },
    {
      "cell_type": "code",
      "execution_count": 10,
      "metadata": {
        "id": "Ko-xmXvBHn1K"
      },
      "outputs": [],
      "source": [
        "rules = {'I want (.*)': ['What would it mean if you got {0}',\n",
        "  'Why do you want {0}',\n",
        "  \"What's stopping you from getting {0}\"],\n",
        " 'do you remember (.*)': ['Did you think I would forget {0}',\n",
        "  \"Why haven't you been able to forget {0}\",\n",
        "  'What about {0}',\n",
        "  'Yes .. and?'],\n",
        " 'do you think (.*)': ['if {0}? Absolutely.', 'No chance'],\n",
        " 'if (.*)': [\"Do you really think it's likely that {0}\",\n",
        "  'Do you wish that {0}',\n",
        "  'What do you think about {0}',\n",
        "  'Really--if {0}']}"
      ]
    },
    {
      "cell_type": "code",
      "source": [
        "import re\n",
        "import random"
      ],
      "metadata": {
        "id": "b0F7hqo8H3jl"
      },
      "execution_count": 3,
      "outputs": []
    },
    {
      "cell_type": "code",
      "source": [
        "def match_rule(rules, message):\n",
        "    response, phrase = \"default\", None\n",
        "\n",
        "    # Iterate over the rules dictionary\n",
        "    for pattern, responses in rules.items():\n",
        "        # Create a match object\n",
        "        match = re.search(pattern, message)\n",
        "        if match is not None:\n",
        "            # Choose a random response\n",
        "            response = random.choice(responses)\n",
        "            if '{0}' in response:\n",
        "                phrase = match.group(1)\n",
        "    # Return the response and phrase\n",
        "    return response, phrase"
      ],
      "metadata": {
        "colab": {
          "base_uri": "https://localhost:8080/"
        },
        "id": "sJAZ0G3HHzbg",
        "outputId": "048fb937-172f-4a9d-e12a-856c07cb78c3"
      },
      "execution_count": 11,
      "outputs": [
        {
          "output_type": "stream",
          "name": "stdout",
          "text": [
            "('Yes .. and?', None)\n"
          ]
        }
      ]
    },
    {
      "cell_type": "code",
      "source": [
        "# Test match_rule\n",
        "print(match_rule(rules, \"do you remember your last birthday\"))"
      ],
      "metadata": {
        "colab": {
          "base_uri": "https://localhost:8080/"
        },
        "id": "ZWcpzH7pKHwl",
        "outputId": "fc764417-9b62-4793-dae0-3ca162f5270b"
      },
      "execution_count": 19,
      "outputs": [
        {
          "output_type": "stream",
          "name": "stdout",
          "text": [
            "('Yes .. and?', None)\n"
          ]
        }
      ]
    },
    {
      "cell_type": "code",
      "source": [
        "# Define replace_pronouns()\n",
        "def replace_pronouns(message):\n",
        "\n",
        "    message = message.lower()\n",
        "    if 'me' in message:\n",
        "        # Replace 'me' with 'you'\n",
        "        return re.sub(message, \"you\", \"me\")\n",
        "    if 'my' in message:\n",
        "        # Replace 'my' with 'your'\n",
        "        return re.sub(message, \"your\", \"my\")\n",
        "    if 'your' in message:\n",
        "        # Replace 'your' with 'my'\n",
        "        return re.sub(message, \"my\", \"your\")\n",
        "    if 'you' in message:\n",
        "        # Replace 'you' with 'me'\n",
        "        return re.sub(message, \"me\", \"you\")\n",
        "\n",
        "    return message"
      ],
      "metadata": {
        "colab": {
          "base_uri": "https://localhost:8080/"
        },
        "id": "XlJRDgBwIuGW",
        "outputId": "01610b8e-e12f-416a-d6aa-bab73df44935"
      },
      "execution_count": 12,
      "outputs": [
        {
          "output_type": "stream",
          "name": "stdout",
          "text": [
            "my\n",
            "you\n",
            "my\n"
          ]
        }
      ]
    },
    {
      "cell_type": "code",
      "source": [
        "print(replace_pronouns(\"my last birthday\"))\n",
        "print(replace_pronouns(\"when you went to Florida\"))\n",
        "print(replace_pronouns(\"I had my own castle\"))"
      ],
      "metadata": {
        "colab": {
          "base_uri": "https://localhost:8080/"
        },
        "id": "u1BHJRexKGZV",
        "outputId": "16636a1f-0193-46aa-d6df-49742a804b95"
      },
      "execution_count": 20,
      "outputs": [
        {
          "output_type": "stream",
          "name": "stdout",
          "text": [
            "my\n",
            "you\n",
            "my\n"
          ]
        }
      ]
    },
    {
      "cell_type": "code",
      "source": [
        "# Define respond()\n",
        "def respond(message):\n",
        "    # Call match_rule\n",
        "    response, phrase = match_rule(rules, message)\n",
        "    if '{0}' in response:\n",
        "        # Replace the pronouns in the phrase\n",
        "        phrase = replace_pronouns(phrase)\n",
        "        # Include the phrase in the response\n",
        "        response = response.format(phrase)\n",
        "    return response"
      ],
      "metadata": {
        "id": "oREnZvT1JJmc"
      },
      "execution_count": 14,
      "outputs": []
    },
    {
      "cell_type": "code",
      "source": [
        "# Send the messages\n",
        "respond(\"do you remember your last birthday\")"
      ],
      "metadata": {
        "colab": {
          "base_uri": "https://localhost:8080/",
          "height": 35
        },
        "id": "cweS__gGJy-o",
        "outputId": "430008f3-2061-459a-e2fe-60b34b341e74"
      },
      "execution_count": 15,
      "outputs": [
        {
          "output_type": "execute_result",
          "data": {
            "text/plain": [
              "'Did you think I would forget your'"
            ],
            "application/vnd.google.colaboratory.intrinsic+json": {
              "type": "string"
            }
          },
          "metadata": {},
          "execution_count": 15
        }
      ]
    },
    {
      "cell_type": "code",
      "source": [
        "respond(\"do you think humans should be worried about AI\")"
      ],
      "metadata": {
        "colab": {
          "base_uri": "https://localhost:8080/",
          "height": 35
        },
        "id": "w7qOVWoqJ0lV",
        "outputId": "1f9b7d1b-0638-46bb-8076-98b031d6a83d"
      },
      "execution_count": 16,
      "outputs": [
        {
          "output_type": "execute_result",
          "data": {
            "text/plain": [
              "'No chance'"
            ],
            "application/vnd.google.colaboratory.intrinsic+json": {
              "type": "string"
            }
          },
          "metadata": {},
          "execution_count": 16
        }
      ]
    },
    {
      "cell_type": "code",
      "source": [
        "respond(\"I want a robot friend\")"
      ],
      "metadata": {
        "colab": {
          "base_uri": "https://localhost:8080/",
          "height": 35
        },
        "id": "D-Cg9OACJ2Ot",
        "outputId": "0e86827d-6c19-4839-f679-a49d4000fcd5"
      },
      "execution_count": 17,
      "outputs": [
        {
          "output_type": "execute_result",
          "data": {
            "text/plain": [
              "\"What's stopping you from getting a robot friend\""
            ],
            "application/vnd.google.colaboratory.intrinsic+json": {
              "type": "string"
            }
          },
          "metadata": {},
          "execution_count": 17
        }
      ]
    },
    {
      "cell_type": "code",
      "source": [
        "respond(\"what if you could be anything you wanted\")"
      ],
      "metadata": {
        "colab": {
          "base_uri": "https://localhost:8080/",
          "height": 35
        },
        "id": "GE5BoklvJ4WF",
        "outputId": "a08d6368-9dfd-42a5-f397-92f1fdfc40d5"
      },
      "execution_count": 18,
      "outputs": [
        {
          "output_type": "execute_result",
          "data": {
            "text/plain": [
              "'Really--if you'"
            ],
            "application/vnd.google.colaboratory.intrinsic+json": {
              "type": "string"
            }
          },
          "metadata": {},
          "execution_count": 18
        }
      ]
    },
    {
      "cell_type": "code",
      "source": [
        "keywords = {'goodbye': ['bye', 'farewell'],\n",
        " 'greet': ['hello', 'hi', 'hey'],\n",
        " 'thankyou': ['thank', 'thx']}"
      ],
      "metadata": {
        "id": "RdCinIkm7emx"
      },
      "execution_count": 1,
      "outputs": []
    },
    {
      "cell_type": "code",
      "source": [
        "# Define a dictionary of patterns\n",
        "patterns = {}\n",
        "\n",
        "# Iterate over the keywords dictionary\n",
        "for intent, keys in keywords.items():\n",
        "    # Create regular expressions and compile them into pattern objects\n",
        "    pattern = '|'.join(keys)\n",
        "    patterns[intent] = re.compile(pattern)\n",
        "\n",
        "# Print the patterns\n",
        "print(patterns)"
      ],
      "metadata": {
        "colab": {
          "base_uri": "https://localhost:8080/"
        },
        "id": "eGgkiTf08Ttr",
        "outputId": "752525f6-cdc3-414a-f0e6-36f73ab1d9f6"
      },
      "execution_count": 6,
      "outputs": [
        {
          "output_type": "stream",
          "name": "stdout",
          "text": [
            "{'goodbye': re.compile('bye|farewell'), 'greet': re.compile('hello|hi|hey'), 'thankyou': re.compile('thank|thx')}\n"
          ]
        }
      ]
    },
    {
      "cell_type": "code",
      "source": [
        "# Define a function to find the intent of a message\n",
        "def match_intent(message):\n",
        "    matched_intent = None\n",
        "    for intent, pattern in patterns.items():\n",
        "        # Check if the pattern occurs in the message\n",
        "        if re.match(pattern, message):\n",
        "            matched_intent = intent\n",
        "    return matched_intent\n",
        "\n"
      ],
      "metadata": {
        "id": "qxjplEL0GGS9"
      },
      "execution_count": null,
      "outputs": []
    },
    {
      "cell_type": "code",
      "source": [
        "responses = {'default': 'default message',\n",
        " 'goodbye': 'goodbye for now',\n",
        " 'greet': 'Hello you! :)',\n",
        " 'thankyou': 'you are very welcome'}"
      ],
      "metadata": {
        "id": "bwOwOUBGGWQs"
      },
      "execution_count": 7,
      "outputs": []
    },
    {
      "cell_type": "code",
      "source": [
        "# Define a respond function\n",
        "def respond(message):\n",
        "    # Call the match_intent function\n",
        "    intent = match_intent(message)\n",
        "    # Fall back to the default response\n",
        "    key = \"default\"\n",
        "    if intent in responses:\n",
        "        key = intent\n",
        "    return responses[key]"
      ],
      "metadata": {
        "id": "rw5vyvHuGIz7"
      },
      "execution_count": 9,
      "outputs": []
    },
    {
      "cell_type": "code",
      "source": [
        "# Define find_name()\n",
        "def find_name(message):\n",
        "    name = None\n",
        "    # Create a pattern for checking if the keywords occur\n",
        "    name_keyword = re.compile(\"name|call\")\n",
        "    # Create a pattern for finding capitalized words\n",
        "    name_pattern = re.compile(r\"\\b[A-Z]{1}[a-z]*\\b\")\n",
        "    if name_keyword.search(message):\n",
        "        # Get the matching words in the string\n",
        "        name_words = name_pattern.findall(message)\n",
        "        if len(name_words) > 0:\n",
        "            # Return the name if the keywords are present\n",
        "            name = ' '.join(name_words)\n",
        "    return name"
      ],
      "metadata": {
        "id": "dT1kVz89OvwA"
      },
      "execution_count": 10,
      "outputs": []
    },
    {
      "cell_type": "code",
      "source": [
        "# Define respond()\n",
        "def respond(message):\n",
        "    # Find the name\n",
        "    name = find_name(message)\n",
        "    if name is None:\n",
        "        return \"Hi there!\"\n",
        "    else:\n",
        "        return \"Hello, {0}!\".format(name)\n",
        "\n",
        "# Send messages\n",
        "respond(\"my name is David Copperfield\")\n",
        "respond(\"call me Ishmael\")\n",
        "respond(\"People call me Cassandra\")"
      ],
      "metadata": {
        "colab": {
          "base_uri": "https://localhost:8080/",
          "height": 35
        },
        "id": "TzaJ404ZO2LH",
        "outputId": "a1401043-8f6a-435c-825a-f39192426222"
      },
      "execution_count": 11,
      "outputs": [
        {
          "output_type": "execute_result",
          "data": {
            "text/plain": [
              "'Hello, People Cassandra!'"
            ],
            "application/vnd.google.colaboratory.intrinsic+json": {
              "type": "string"
            }
          },
          "metadata": {},
          "execution_count": 11
        }
      ]
    },
    {
      "cell_type": "code",
      "source": [],
      "metadata": {
        "id": "E1G56fm_PNeQ"
      },
      "execution_count": null,
      "outputs": []
    }
  ]
}