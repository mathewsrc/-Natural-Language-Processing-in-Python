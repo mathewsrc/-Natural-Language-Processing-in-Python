{
  "nbformat": 4,
  "nbformat_minor": 0,
  "metadata": {
    "colab": {
      "provenance": [],
      "authorship_tag": "ABX9TyMzDWpDjKN4W2htvSStuQH8",
      "include_colab_link": true
    },
    "kernelspec": {
      "name": "python3",
      "display_name": "Python 3"
    },
    "language_info": {
      "name": "python"
    }
  },
  "cells": [
    {
      "cell_type": "markdown",
      "metadata": {
        "id": "view-in-github",
        "colab_type": "text"
      },
      "source": [
        "<a href=\"https://colab.research.google.com/github/mathewsrc/Natural-Language-Processing-in-Python/blob/master/classifying_fake_news_using_supervised_learning.ipynb\" target=\"_parent\"><img src=\"https://colab.research.google.com/assets/colab-badge.svg\" alt=\"Open In Colab\"/></a>"
      ]
    },
    {
      "cell_type": "code",
      "source": [
        "!pip install polars"
      ],
      "metadata": {
        "colab": {
          "base_uri": "https://localhost:8080/"
        },
        "id": "Vv5MmvMbJoM6",
        "outputId": "415e1e8b-5441-46dd-abb8-ac3683137d74"
      },
      "execution_count": 2,
      "outputs": [
        {
          "output_type": "stream",
          "name": "stdout",
          "text": [
            "Looking in indexes: https://pypi.org/simple, https://us-python.pkg.dev/colab-wheels/public/simple/\n",
            "Requirement already satisfied: polars in /usr/local/lib/python3.9/dist-packages (0.16.17)\n",
            "Requirement already satisfied: typing_extensions>=4.0.1 in /usr/local/lib/python3.9/dist-packages (from polars) (4.5.0)\n"
          ]
        }
      ]
    },
    {
      "cell_type": "code",
      "execution_count": 3,
      "metadata": {
        "id": "Oifk61PNHvyF"
      },
      "outputs": [],
      "source": [
        "import polars as pl\n",
        "from sklearn.model_selection import train_test_split\n",
        "from sklearn.feature_extraction.text import CountVectorizer\n",
        "from sklearn.datasets import fetch_20newsgroups"
      ]
    },
    {
      "cell_type": "code",
      "source": [
        "# Load the dataset\n",
        "bunch = fetch_20newsgroups(subset='all', categories=['sci.space', 'comp.graphics'])\n",
        "\n",
        "# Get the list of categories\n",
        "categories = bunch.target_names\n",
        "\n",
        "# Print the list of categories\n",
        "print(categories)\n",
        "\n",
        "# Create a dictionary with the data and target fields\n",
        "data_dict = {\n",
        "    'data': bunch.data,\n",
        "    'target': bunch.target\n",
        "}\n",
        "\n",
        "# Create a dataframe from the dictionary\n",
        "df = pl.from_dict(data_dict)\n",
        "\n",
        "# Keep the first 1000 rows of the DataFrame\n",
        "df = df.head(1000)\n",
        "\n",
        "# Display the first 5 rows of the resulting DataFrame\n",
        "print(df.head(5))"
      ],
      "metadata": {
        "colab": {
          "base_uri": "https://localhost:8080/"
        },
        "id": "vov-kGDqJgZW",
        "outputId": "0c85535e-811b-4eb4-d0eb-0cb824e8e178"
      },
      "execution_count": 33,
      "outputs": [
        {
          "output_type": "stream",
          "name": "stdout",
          "text": [
            "['comp.graphics', 'sci.space']\n",
            "shape: (5, 2)\n",
            "┌───────────────────────────────────┬────────┐\n",
            "│ data                              ┆ target │\n",
            "│ ---                               ┆ ---    │\n",
            "│ str                               ┆ i64    │\n",
            "╞═══════════════════════════════════╪════════╡\n",
            "│ From: henry@zoo.toronto.edu (Hen… ┆ 1      │\n",
            "│ From: leech@cs.unc.edu (Jon Leec… ┆ 1      │\n",
            "│ From: jscotti@lpl.arizona.edu (J… ┆ 1      │\n",
            "│ From: dchien@hougen.seas.ucla.ed… ┆ 1      │\n",
            "│ From: robert@slipknot.rain.com (… ┆ 0      │\n",
            "└───────────────────────────────────┴────────┘\n"
          ]
        }
      ]
    },
    {
      "cell_type": "markdown",
      "source": [
        "## Split data into train and test"
      ],
      "metadata": {
        "id": "NuYJ2ntRRv2z"
      }
    },
    {
      "cell_type": "code",
      "source": [
        "# Create a series to store the labels: y\n",
        "y = df.select('target').to_numpy()\n",
        "\n",
        "# Create training and test sets\n",
        "X_train, X_test, y_train, y_test = train_test_split(df['data'], y, test_size=0.33, random_state=42)"
      ],
      "metadata": {
        "id": "E57a5Q4ZRzNF"
      },
      "execution_count": 34,
      "outputs": []
    },
    {
      "cell_type": "markdown",
      "source": [
        "## Vectoring data with CountVectorizer"
      ],
      "metadata": {
        "id": "4AOHOteHRj_8"
      }
    },
    {
      "cell_type": "code",
      "source": [
        "# Initialize a CountVectorizer object: count_vectorizer\n",
        "count_vectorizer = CountVectorizer(stop_words='english')\n",
        "\n",
        "# Transform the training data using only the 'text' column values: count_train \n",
        "count_train = count_vectorizer.fit_transform(X_train)\n",
        "\n",
        "# Transform the test data using only the 'text' column values: count_test \n",
        "count_test = count_vectorizer.transform(X_test)\n",
        "\n",
        "print(count_vectorizer.get_feature_names_out()[:10])"
      ],
      "metadata": {
        "colab": {
          "base_uri": "https://localhost:8080/"
        },
        "id": "NkvVIt27N0_n",
        "outputId": "a50027f6-ffbc-4700-932b-7f9492e38f87"
      },
      "execution_count": 35,
      "outputs": [
        {
          "output_type": "stream",
          "name": "stdout",
          "text": [
            "['00' '000' '0000' '00000' '000005102000' '000021' '000050' '00041032'\n",
            " '0004136' '00043819']\n"
          ]
        }
      ]
    },
    {
      "cell_type": "markdown",
      "source": [
        "## Vectoring data with TfidfVectorizer"
      ],
      "metadata": {
        "id": "G-tzFXdRRo3y"
      }
    },
    {
      "cell_type": "code",
      "source": [
        "# Import TfidfVectorizer\n",
        "from sklearn.feature_extraction.text import TfidfVectorizer\n",
        "\n",
        "# Initialize a TfidfVectorizer object: tfidf_vectorizer\n",
        "tfidf_vectorizer = TfidfVectorizer(stop_words=\"english\", max_df=0.7)\n",
        "\n",
        "# Transform the training data: tfidf_train\n",
        "tfidf_train = tfidf_vectorizer.fit_transform(X_train)\n",
        "\n",
        "# Transform the test data: tfidf_test \n",
        "tfidf_test = tfidf_vectorizer.transform(X_test)\n",
        "\n",
        "# Print the first 10 features\n",
        "print(tfidf_vectorizer.get_feature_names_out()[:10])\n",
        "\n",
        "print(tfidf_train[:5].A)"
      ],
      "metadata": {
        "colab": {
          "base_uri": "https://localhost:8080/"
        },
        "id": "Pvey9t_cRsb5",
        "outputId": "08a454b2-b73e-4517-83f4-ec93c3157d5f"
      },
      "execution_count": 36,
      "outputs": [
        {
          "output_type": "stream",
          "name": "stdout",
          "text": [
            "['00' '000' '0000' '00000' '000005102000' '000021' '000050' '00041032'\n",
            " '0004136' '00043819']\n",
            "[[0. 0. 0. ... 0. 0. 0.]\n",
            " [0. 0. 0. ... 0. 0. 0.]\n",
            " [0. 0. 0. ... 0. 0. 0.]\n",
            " [0. 0. 0. ... 0. 0. 0.]\n",
            " [0. 0. 0. ... 0. 0. 0.]]\n"
          ]
        }
      ]
    },
    {
      "cell_type": "markdown",
      "source": [
        "## Training and test a classification model"
      ],
      "metadata": {
        "id": "LX3biuydW4d5"
      }
    },
    {
      "cell_type": "markdown",
      "source": [
        "### Multinomial Naive Bayes (MNB) \n",
        "\n",
        "\n",
        "Multinomial Naive Bayes (MNB) is a popular algorithm for text classification tasks. It is a probabilistic model that uses Bayes' theorem to calculate the probability of a document belonging to a certain class based on the words in it."
      ],
      "metadata": {
        "id": "VGdbwTPhXoxr"
      }
    },
    {
      "cell_type": "code",
      "source": [
        "from sklearn.naive_bayes import MultinomialNB\n",
        "from sklearn import metrics"
      ],
      "metadata": {
        "id": "VKPkJuNNXoCI"
      },
      "execution_count": 37,
      "outputs": []
    },
    {
      "cell_type": "code",
      "source": [
        "# Instantiate a Multinomial Naive Bayes classifier: nb_classifier\n",
        "nb_classifier = MultinomialNB()\n",
        "\n",
        "# Fit the classifier to the training data\n",
        "nb_classifier.fit(count_train, y_train.ravel())\n",
        "\n",
        "# Create the predicted tags: pred\n",
        "pred = nb_classifier.predict(count_test)\n",
        "\n",
        "# Calculate the accuracy score: score\n",
        "acc = metrics.accuracy_score(y_test, pred)\n",
        "print(acc)\n",
        "\n",
        "# Calculate the confusion matrix: cm\n",
        "cm = metrics.confusion_matrix(y_test, pred)\n",
        "print(cm)"
      ],
      "metadata": {
        "colab": {
          "base_uri": "https://localhost:8080/"
        },
        "id": "zQ3bJJCfW-0L",
        "outputId": "7498225b-075e-4c71-ca76-5abc716a1130"
      },
      "execution_count": 43,
      "outputs": [
        {
          "output_type": "stream",
          "name": "stdout",
          "text": [
            "0.9787878787878788\n",
            "[[161   2]\n",
            " [  5 162]]\n"
          ]
        }
      ]
    }
  ]
}